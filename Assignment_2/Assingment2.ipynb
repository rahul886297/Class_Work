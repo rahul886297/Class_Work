{
 "cells": [
  {
   "cell_type": "markdown",
   "id": "891803ff-4b74-4d35-9881-225cbfffb844",
   "metadata": {},
   "source": [
    "Write a function greet that takes two arguments: name (a string) and greeting (a string with a default value of \"Hello\"). The function should return a greeting message."
   ]
  },
  {
   "cell_type": "code",
   "execution_count": 15,
   "id": "32bfb2f7-c5db-4cdf-8210-1f65a1857dec",
   "metadata": {},
   "outputs": [
    {
     "name": "stdout",
     "output_type": "stream",
     "text": [
      "Hello Rahul\n",
      "Good Morning Rishav\n"
     ]
    }
   ],
   "source": [
    "def greet(name, greeting=\"Hello\"):\n",
    "    return f\"{greeting} {name}\"\n",
    "\n",
    "print(greet(\"Rahul\"))\n",
    "print(greet(\"Rishav\", \"Good Morning\"))"
   ]
  },
  {
   "cell_type": "markdown",
   "id": "19ffea71-acab-4e63-9d08-cb3c44772326",
   "metadata": {},
   "source": [
    "Create a function create_profile that takes arguments for name, age, and city as named arguments. The function should return a string like \"Name: Alice, Age: 25, City: New York\". Ensure that the age argument has a default value of 18."
   ]
  },
  {
   "cell_type": "code",
   "execution_count": 19,
   "id": "dd4750b3-66d8-4740-b4f9-b7f903c99f90",
   "metadata": {},
   "outputs": [
    {
     "name": "stdout",
     "output_type": "stream",
     "text": [
      "Name: John, Age: 18, City: Chicago\n",
      "Name: Emma, Age: 22, City: Los Angeles\n"
     ]
    }
   ],
   "source": [
    "def create_profile(*, name, age=18, city):\n",
    "    return f\"Name: {name}, Age: {age}, City: {city}\"\n",
    "print(create_profile(name=\"John\", city=\"Chicago\"))\n",
    "print (create_profile(name=\"Emma\", age=22, city=\"Los Angeles\"))"
   ]
  },
  {
   "cell_type": "markdown",
   "id": "6ab338db-036d-4482-8659-7cd5b3eac4c8",
   "metadata": {},
   "source": [
    "Write a function sum_numbers that takes any number of positional arguments (args) and keyword arguments (kwargs). It should:\n",
    "Return the sum of all *args if they are numbers.\n",
    "Return a dictionary of all keyword arguments."
   ]
  },
  {
   "cell_type": "code",
   "execution_count": 20,
   "id": "1974fe86-e7ab-428b-8b5f-226ac71aaa38",
   "metadata": {},
   "outputs": [
    {
     "name": "stdout",
     "output_type": "stream",
     "text": [
      "(6, {})\n",
      "(3, {'x': 4, 'y': 5})\n"
     ]
    }
   ],
   "source": [
    "def sum_numbers(*args, **kwargs):\n",
    "    total_sum=sum(arg for arg in args if isinstance(arg, (int, float)))\n",
    "    return total_sum, kwargs\n",
    "\n",
    "print(sum_numbers(1, 2, 3))\n",
    "print(sum_numbers(1, 2, x=4, y=5))"
   ]
  },
  {
   "cell_type": "markdown",
   "id": "d83803ab-ea3b-4888-92a6-b4263a774f93",
   "metadata": {},
   "source": [
    "Write a function that uses map and a lambda to return a list where each element is squared."
   ]
  },
  {
   "cell_type": "code",
   "execution_count": 23,
   "id": "28495f5d-5335-41f4-a7b0-cf5d23aa12ec",
   "metadata": {},
   "outputs": [
    {
     "name": "stdout",
     "output_type": "stream",
     "text": [
      "[1, 4, 9, 16]\n"
     ]
    }
   ],
   "source": [
    "def square_list(lst):\n",
    "    return list(map(lambda x: x**2, lst))\n",
    "\n",
    "print(square_list([1, 2, 3, 4]))"
   ]
  },
  {
   "cell_type": "markdown",
   "id": "320206c7-d532-4769-81e3-71d9576ce0e9",
   "metadata": {},
   "source": [
    "Write a function that filters out all odd numbers from a list using filter and a lambde function."
   ]
  },
  {
   "cell_type": "code",
   "execution_count": 24,
   "id": "403896a7-b26b-4403-9c7c-d34db1f6fca0",
   "metadata": {},
   "outputs": [
    {
     "data": {
      "text/plain": [
       "[2, 4]"
      ]
     },
     "execution_count": 24,
     "metadata": {},
     "output_type": "execute_result"
    }
   ],
   "source": [
    "def filter_odd_numbers(lst):\n",
    "    return list(filter(lambda x: x%2==0, lst))\n",
    "\n",
    "filter_odd_numbers([1, 2, 3, 4, 5]) "
   ]
  },
  {
   "cell_type": "markdown",
   "id": "b1e0ea84-fb73-4b80-9369-edbec5915dd8",
   "metadata": {},
   "source": [
    "Create a list comprehension that takes a list of numbers and returns a list of their squares."
   ]
  },
  {
   "cell_type": "code",
   "execution_count": 25,
   "id": "a5554520-eb75-4618-9fc8-22d904a71f16",
   "metadata": {},
   "outputs": [
    {
     "name": "stdin",
     "output_type": "stream",
     "text": [
      "Enter a number: 4\n"
     ]
    },
    {
     "name": "stdout",
     "output_type": "stream",
     "text": [
      "[0, 1, 4, 9]\n"
     ]
    }
   ],
   "source": [
    "n=int(input(\"Enter a number:\"))\n",
    "squares=[x**2 for x in range(n)]\n",
    "\n",
    "print (squares)"
   ]
  },
  {
   "cell_type": "markdown",
   "id": "2a520ef4-ab95-4ebe-98aa-351411fdd933",
   "metadata": {},
   "source": [
    "Use a list comprehension to create a list of even numbers from 1 to 20"
   ]
  },
  {
   "cell_type": "code",
   "execution_count": 27,
   "id": "55f49b63-8877-4027-8bae-49e3f1bcafec",
   "metadata": {},
   "outputs": [
    {
     "name": "stdout",
     "output_type": "stream",
     "text": [
      "[2, 4, 6, 8, 10, 12, 14, 16, 18, 20]\n"
     ]
    }
   ],
   "source": [
    "Even = [x for x in range(1, 21) if x%2==0]\n",
    "print(Even)"
   ]
  },
  {
   "cell_type": "markdown",
   "id": "a17b19ae-33bb-46f8-aa96-b0b998aa54e7",
   "metadata": {},
   "source": [
    "Write a function file_operations that creates a directory named \"test_folder\" using os.makedirs(). Then, pause the execution for 3 seconds using time.sleep(), and finally, delete the directory using os.rmdir()."
   ]
  },
  {
   "cell_type": "code",
   "execution_count": 28,
   "id": "c24a36c1-1977-4649-be8b-7cae48f51aa4",
   "metadata": {},
   "outputs": [
    {
     "name": "stdout",
     "output_type": "stream",
     "text": [
      "Directory 'test_folder' created.\n",
      "Dirctory 'test_folder' deleted.\n"
     ]
    }
   ],
   "source": [
    "import os\n",
    "import time\n",
    "\n",
    "def file_operations():\n",
    "\n",
    "    folder_name=\"test_folder\"\n",
    "\n",
    "    try:\n",
    "        os.makedirs(folder_name, exist_ok=True)\n",
    "        print(f\"Directory '{folder_name}' created.\")\n",
    "    except Exception as e:\n",
    "        print(f\"Error creating directory: {e}\")\n",
    "\n",
    "    time.sleep(3)\n",
    "\n",
    "    try:\n",
    "        os.rmdir(folder_name)\n",
    "        print(f\"Dirctory '{folder_name}' deleted.\")\n",
    "\n",
    "    except Exception as e:\n",
    "        print(f\"Error deleting directory: {e}\")\n",
    "\n",
    "if __name__ == \"__main__\":\n",
    "    file_operations()\n",
    "    "
   ]
  },
  {
   "cell_type": "markdown",
   "id": "28b257b7-ac53-4b55-b17d-5a5766314658",
   "metadata": {},
   "source": [
    "Write a Python script that imports only sleep from the time module and renames it to pause. Use it to pause execution for 2 seconds and print \"Paused execution....\""
   ]
  },
  {
   "cell_type": "code",
   "execution_count": 29,
   "id": "837cbc6e-4e5d-48d1-b46e-1017ff0fce94",
   "metadata": {},
   "outputs": [
    {
     "name": "stdout",
     "output_type": "stream",
     "text": [
      "Paused execution...\n"
     ]
    }
   ],
   "source": [
    "from time import sleep as pause\n",
    "\n",
    "pause(2)\n",
    "\n",
    "print(\"Paused execution...\")\n"
   ]
  },
  {
   "cell_type": "markdown",
   "id": "6dabc70d-ecf7-4ef4-933b-70e4326e8d45",
   "metadata": {},
   "source": [
    "Write a recursive function flatten_list that can flatten a nested list of any depth using *args and **kwargs."
   ]
  },
  {
   "cell_type": "code",
   "execution_count": 30,
   "id": "fb293211-e00e-4187-8cf0-f27b580de399",
   "metadata": {},
   "outputs": [
    {
     "name": "stdout",
     "output_type": "stream",
     "text": [
      "[1, 2, 3, 4, 5, 6]\n",
      "[1, 2, 3, 4, 5]\n"
     ]
    }
   ],
   "source": [
    "def flatten_list(nested_list, *args, **kwargs):\n",
    "    flat_list = []\n",
    "    \n",
    "   \n",
    "    for item in nested_list:\n",
    "       \n",
    "        if isinstance(item, list):\n",
    "            flat_list.extend(flatten_list(item))\n",
    "       \n",
    "        else:\n",
    "            flat_list.append(item)\n",
    "    \n",
    "    return flat_list\n",
    "\n",
    "\n",
    "print(flatten_list([1, [2, 3], [[4, 5], 6]]))  # Output: [1, 2, 3, 4, 5, 6]\n",
    "print(flatten_list([[1, 2], [3, [4, [5]]]]))"
   ]
  },
  {
   "cell_type": "code",
   "execution_count": null,
   "id": "75b9cc4a-c5d7-43eb-93f6-eff1e30a7131",
   "metadata": {},
   "outputs": [],
   "source": []
  }
 ],
 "metadata": {
  "kernelspec": {
   "display_name": "Python 3 (ipykernel)",
   "language": "python",
   "name": "python3"
  },
  "language_info": {
   "codemirror_mode": {
    "name": "ipython",
    "version": 3
   },
   "file_extension": ".py",
   "mimetype": "text/x-python",
   "name": "python",
   "nbconvert_exporter": "python",
   "pygments_lexer": "ipython3",
   "version": "3.12.4"
  }
 },
 "nbformat": 4,
 "nbformat_minor": 5
}
